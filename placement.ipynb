{
 "cells": [
  {
   "cell_type": "code",
   "execution_count": null,
   "id": "7ca2f272-d811-4c09-9cc8-e4f9ca092c98",
   "metadata": {},
   "outputs": [],
   "source": [
    "import pandas as pd\n",
    "import numpy as np\n",
    "import matplotlib.pyplot as plt\n",
    "import seaborn as sns\n",
    "from sklearn.model_selection import train_test_split\n",
    "from sklearn.preprocessing import LabelEncoder, StandardScaler\n",
    "from sklearn.linear_model import LogisticRegression\n",
    "from sklearn.linear_model import LinearRegression\n",
    "from sklearn.metrics import mean_absolute_error, mean_squared_error"
   ]
  },
  {
   "cell_type": "code",
   "execution_count": null,
   "id": "df53b6ba-218e-4388-8059-d9140fd3265a",
   "metadata": {},
   "outputs": [],
   "source": [
    "df=pd.read_csv(\"placementdata.csv\")"
   ]
  },
  {
   "cell_type": "code",
   "execution_count": null,
   "id": "23d694b9-bdc2-465f-9cc3-af4a3727fbd4",
   "metadata": {},
   "outputs": [
    {
     "name": "stdout",
     "output_type": "stream",
     "text": [
      "(10000, 12)\n"
     ]
    }
   ],
   "source": [
    "print(df.shape)"
   ]
  },
  {
   "cell_type": "code",
   "execution_count": null,
   "id": "0418b0b6-8983-4fbf-9545-74d61273e4ab",
   "metadata": {},
   "outputs": [
    {
     "data": {
      "text/plain": [
       "Index(['StudentID', 'CGPA', 'Internships', 'Projects',\n",
       "       'Workshops/Certifications', 'AptitudeTestScore', 'SoftSkillsRating',\n",
       "       'ExtracurricularActivities', 'PlacementTraining', 'SSC_Marks',\n",
       "       'HSC_Marks', 'PlacementStatus'],\n",
       "      dtype='object')"
      ]
     },
     "execution_count": 4,
     "metadata": {},
     "output_type": "execute_result"
    }
   ],
   "source": [
    "df.columns\n"
   ]
  },
  {
   "cell_type": "code",
   "execution_count": 5,
   "id": "dda1fb37-5fdf-431f-ac17-f618ea1ff110",
   "metadata": {},
   "outputs": [
    {
     "data": {
      "text/html": [
       "<div>\n",
       "<style scoped>\n",
       "    .dataframe tbody tr th:only-of-type {\n",
       "        vertical-align: middle;\n",
       "    }\n",
       "\n",
       "    .dataframe tbody tr th {\n",
       "        vertical-align: top;\n",
       "    }\n",
       "\n",
       "    .dataframe thead th {\n",
       "        text-align: right;\n",
       "    }\n",
       "</style>\n",
       "<table border=\"1\" class=\"dataframe\">\n",
       "  <thead>\n",
       "    <tr style=\"text-align: right;\">\n",
       "      <th></th>\n",
       "      <th>StudentID</th>\n",
       "      <th>CGPA</th>\n",
       "      <th>Internships</th>\n",
       "      <th>Projects</th>\n",
       "      <th>Workshops/Certifications</th>\n",
       "      <th>AptitudeTestScore</th>\n",
       "      <th>SoftSkillsRating</th>\n",
       "      <th>SSC_Marks</th>\n",
       "      <th>HSC_Marks</th>\n",
       "    </tr>\n",
       "  </thead>\n",
       "  <tbody>\n",
       "    <tr>\n",
       "      <th>count</th>\n",
       "      <td>10000.00000</td>\n",
       "      <td>10000.000000</td>\n",
       "      <td>10000.000000</td>\n",
       "      <td>10000.000000</td>\n",
       "      <td>10000.000000</td>\n",
       "      <td>10000.000000</td>\n",
       "      <td>10000.000000</td>\n",
       "      <td>10000.000000</td>\n",
       "      <td>10000.000000</td>\n",
       "    </tr>\n",
       "    <tr>\n",
       "      <th>mean</th>\n",
       "      <td>5000.50000</td>\n",
       "      <td>7.698010</td>\n",
       "      <td>1.049200</td>\n",
       "      <td>2.026600</td>\n",
       "      <td>1.013300</td>\n",
       "      <td>79.449900</td>\n",
       "      <td>4.323960</td>\n",
       "      <td>69.159400</td>\n",
       "      <td>74.501500</td>\n",
       "    </tr>\n",
       "    <tr>\n",
       "      <th>std</th>\n",
       "      <td>2886.89568</td>\n",
       "      <td>0.640131</td>\n",
       "      <td>0.665901</td>\n",
       "      <td>0.867968</td>\n",
       "      <td>0.904326</td>\n",
       "      <td>8.159997</td>\n",
       "      <td>0.411622</td>\n",
       "      <td>10.430459</td>\n",
       "      <td>8.919527</td>\n",
       "    </tr>\n",
       "    <tr>\n",
       "      <th>min</th>\n",
       "      <td>1.00000</td>\n",
       "      <td>6.500000</td>\n",
       "      <td>0.000000</td>\n",
       "      <td>0.000000</td>\n",
       "      <td>0.000000</td>\n",
       "      <td>60.000000</td>\n",
       "      <td>3.000000</td>\n",
       "      <td>55.000000</td>\n",
       "      <td>57.000000</td>\n",
       "    </tr>\n",
       "    <tr>\n",
       "      <th>25%</th>\n",
       "      <td>2500.75000</td>\n",
       "      <td>7.400000</td>\n",
       "      <td>1.000000</td>\n",
       "      <td>1.000000</td>\n",
       "      <td>0.000000</td>\n",
       "      <td>73.000000</td>\n",
       "      <td>4.000000</td>\n",
       "      <td>59.000000</td>\n",
       "      <td>67.000000</td>\n",
       "    </tr>\n",
       "    <tr>\n",
       "      <th>50%</th>\n",
       "      <td>5000.50000</td>\n",
       "      <td>7.700000</td>\n",
       "      <td>1.000000</td>\n",
       "      <td>2.000000</td>\n",
       "      <td>1.000000</td>\n",
       "      <td>80.000000</td>\n",
       "      <td>4.400000</td>\n",
       "      <td>70.000000</td>\n",
       "      <td>73.000000</td>\n",
       "    </tr>\n",
       "    <tr>\n",
       "      <th>75%</th>\n",
       "      <td>7500.25000</td>\n",
       "      <td>8.200000</td>\n",
       "      <td>1.000000</td>\n",
       "      <td>3.000000</td>\n",
       "      <td>2.000000</td>\n",
       "      <td>87.000000</td>\n",
       "      <td>4.700000</td>\n",
       "      <td>78.000000</td>\n",
       "      <td>83.000000</td>\n",
       "    </tr>\n",
       "    <tr>\n",
       "      <th>max</th>\n",
       "      <td>10000.00000</td>\n",
       "      <td>9.100000</td>\n",
       "      <td>2.000000</td>\n",
       "      <td>3.000000</td>\n",
       "      <td>3.000000</td>\n",
       "      <td>90.000000</td>\n",
       "      <td>4.800000</td>\n",
       "      <td>90.000000</td>\n",
       "      <td>88.000000</td>\n",
       "    </tr>\n",
       "  </tbody>\n",
       "</table>\n",
       "</div>"
      ],
      "text/plain": [
       "         StudentID          CGPA   Internships      Projects  \\\n",
       "count  10000.00000  10000.000000  10000.000000  10000.000000   \n",
       "mean    5000.50000      7.698010      1.049200      2.026600   \n",
       "std     2886.89568      0.640131      0.665901      0.867968   \n",
       "min        1.00000      6.500000      0.000000      0.000000   \n",
       "25%     2500.75000      7.400000      1.000000      1.000000   \n",
       "50%     5000.50000      7.700000      1.000000      2.000000   \n",
       "75%     7500.25000      8.200000      1.000000      3.000000   \n",
       "max    10000.00000      9.100000      2.000000      3.000000   \n",
       "\n",
       "       Workshops/Certifications  AptitudeTestScore  SoftSkillsRating  \\\n",
       "count              10000.000000       10000.000000      10000.000000   \n",
       "mean                   1.013300          79.449900          4.323960   \n",
       "std                    0.904326           8.159997          0.411622   \n",
       "min                    0.000000          60.000000          3.000000   \n",
       "25%                    0.000000          73.000000          4.000000   \n",
       "50%                    1.000000          80.000000          4.400000   \n",
       "75%                    2.000000          87.000000          4.700000   \n",
       "max                    3.000000          90.000000          4.800000   \n",
       "\n",
       "          SSC_Marks     HSC_Marks  \n",
       "count  10000.000000  10000.000000  \n",
       "mean      69.159400     74.501500  \n",
       "std       10.430459      8.919527  \n",
       "min       55.000000     57.000000  \n",
       "25%       59.000000     67.000000  \n",
       "50%       70.000000     73.000000  \n",
       "75%       78.000000     83.000000  \n",
       "max       90.000000     88.000000  "
      ]
     },
     "execution_count": 5,
     "metadata": {},
     "output_type": "execute_result"
    }
   ],
   "source": [
    "df.describe()\n"
   ]
  },
  {
   "cell_type": "code",
   "execution_count": 6,
   "id": "4527102e-5b5d-4fdc-ace7-15559ad6480a",
   "metadata": {},
   "outputs": [
    {
     "data": {
      "text/plain": [
       "StudentID                      int64\n",
       "CGPA                         float64\n",
       "Internships                    int64\n",
       "Projects                       int64\n",
       "Workshops/Certifications       int64\n",
       "AptitudeTestScore              int64\n",
       "SoftSkillsRating             float64\n",
       "ExtracurricularActivities     object\n",
       "PlacementTraining             object\n",
       "SSC_Marks                      int64\n",
       "HSC_Marks                      int64\n",
       "PlacementStatus               object\n",
       "dtype: object"
      ]
     },
     "execution_count": 6,
     "metadata": {},
     "output_type": "execute_result"
    }
   ],
   "source": [
    "df.dtypes\n"
   ]
  },
  {
   "cell_type": "code",
   "execution_count": 7,
   "id": "7cc70db7-d373-4434-8ba7-b1b63e563671",
   "metadata": {},
   "outputs": [
    {
     "name": "stdout",
     "output_type": "stream",
     "text": [
      "['No' 'Yes']\n"
     ]
    }
   ],
   "source": [
    "print(df['ExtracurricularActivities'].unique())\n"
   ]
  },
  {
   "cell_type": "code",
   "execution_count": 8,
   "id": "07e15077-2a90-4c0a-836a-665978373eca",
   "metadata": {},
   "outputs": [
    {
     "name": "stdout",
     "output_type": "stream",
     "text": [
      "['No' 'Yes']\n"
     ]
    }
   ],
   "source": [
    "print(df['PlacementTraining'].unique())"
   ]
  },
  {
   "cell_type": "code",
   "execution_count": 9,
   "id": "af2ac1be-5feb-4165-a855-e3c39db2ec1e",
   "metadata": {},
   "outputs": [
    {
     "name": "stdout",
     "output_type": "stream",
     "text": [
      "['NotPlaced' 'Placed']\n"
     ]
    }
   ],
   "source": [
    "print(df['PlacementStatus'].unique())"
   ]
  },
  {
   "cell_type": "code",
   "execution_count": 10,
   "id": "906fad9c-3af4-47a2-9ea5-e7b13d61d679",
   "metadata": {},
   "outputs": [
    {
     "name": "stdout",
     "output_type": "stream",
     "text": [
      "[7.5 8.9 7.3 8.3 7.  7.7 6.5 7.8 7.9 7.4 8.6 8.2 6.8 7.6 6.7 8.4 8.5 6.9\n",
      " 8.1 8.8 8.  6.6 7.2 7.1 8.7 9.  9.1]\n"
     ]
    }
   ],
   "source": [
    "print(df['CGPA'].unique())"
   ]
  },
  {
   "cell_type": "code",
   "execution_count": 11,
   "id": "32126974-853d-448d-aff2-c30bcfa5afb3",
   "metadata": {},
   "outputs": [
    {
     "data": {
      "text/plain": [
       "PlacementStatus\n",
       "NotPlaced    5803\n",
       "Placed       4197\n",
       "Name: count, dtype: int64"
      ]
     },
     "execution_count": 11,
     "metadata": {},
     "output_type": "execute_result"
    }
   ],
   "source": [
    "df['PlacementStatus'].value_counts()\n",
    "\n"
   ]
  },
  {
   "cell_type": "code",
   "execution_count": 12,
   "id": "53682389-1976-455a-9a04-992b2e66ebae",
   "metadata": {},
   "outputs": [
    {
     "data": {
      "text/plain": [
       "10000"
      ]
     },
     "execution_count": 12,
     "metadata": {},
     "output_type": "execute_result"
    }
   ],
   "source": [
    "len(df)\n"
   ]
  },
  {
   "cell_type": "code",
   "execution_count": 13,
   "id": "eab3a6e3-a261-47c2-b860-9c5e88a946a8",
   "metadata": {
    "scrolled": true
   },
   "outputs": [
    {
     "data": {
      "text/html": [
       "<div>\n",
       "<style scoped>\n",
       "    .dataframe tbody tr th:only-of-type {\n",
       "        vertical-align: middle;\n",
       "    }\n",
       "\n",
       "    .dataframe tbody tr th {\n",
       "        vertical-align: top;\n",
       "    }\n",
       "\n",
       "    .dataframe thead th {\n",
       "        text-align: right;\n",
       "    }\n",
       "</style>\n",
       "<table border=\"1\" class=\"dataframe\">\n",
       "  <thead>\n",
       "    <tr style=\"text-align: right;\">\n",
       "      <th></th>\n",
       "      <th>StudentID</th>\n",
       "      <th>CGPA</th>\n",
       "      <th>Internships</th>\n",
       "      <th>Projects</th>\n",
       "      <th>Workshops/Certifications</th>\n",
       "      <th>AptitudeTestScore</th>\n",
       "      <th>SoftSkillsRating</th>\n",
       "      <th>ExtracurricularActivities</th>\n",
       "      <th>PlacementTraining</th>\n",
       "      <th>SSC_Marks</th>\n",
       "      <th>HSC_Marks</th>\n",
       "      <th>PlacementStatus</th>\n",
       "    </tr>\n",
       "  </thead>\n",
       "  <tbody>\n",
       "    <tr>\n",
       "      <th>0</th>\n",
       "      <td>1</td>\n",
       "      <td>7.5</td>\n",
       "      <td>1</td>\n",
       "      <td>1</td>\n",
       "      <td>1</td>\n",
       "      <td>65</td>\n",
       "      <td>4.4</td>\n",
       "      <td>No</td>\n",
       "      <td>No</td>\n",
       "      <td>61</td>\n",
       "      <td>79</td>\n",
       "      <td>NotPlaced</td>\n",
       "    </tr>\n",
       "    <tr>\n",
       "      <th>1</th>\n",
       "      <td>2</td>\n",
       "      <td>8.9</td>\n",
       "      <td>0</td>\n",
       "      <td>3</td>\n",
       "      <td>2</td>\n",
       "      <td>90</td>\n",
       "      <td>4.0</td>\n",
       "      <td>Yes</td>\n",
       "      <td>Yes</td>\n",
       "      <td>78</td>\n",
       "      <td>82</td>\n",
       "      <td>Placed</td>\n",
       "    </tr>\n",
       "    <tr>\n",
       "      <th>2</th>\n",
       "      <td>3</td>\n",
       "      <td>7.3</td>\n",
       "      <td>1</td>\n",
       "      <td>2</td>\n",
       "      <td>2</td>\n",
       "      <td>82</td>\n",
       "      <td>4.8</td>\n",
       "      <td>Yes</td>\n",
       "      <td>No</td>\n",
       "      <td>79</td>\n",
       "      <td>80</td>\n",
       "      <td>NotPlaced</td>\n",
       "    </tr>\n",
       "    <tr>\n",
       "      <th>3</th>\n",
       "      <td>4</td>\n",
       "      <td>7.5</td>\n",
       "      <td>1</td>\n",
       "      <td>1</td>\n",
       "      <td>2</td>\n",
       "      <td>85</td>\n",
       "      <td>4.4</td>\n",
       "      <td>Yes</td>\n",
       "      <td>Yes</td>\n",
       "      <td>81</td>\n",
       "      <td>80</td>\n",
       "      <td>Placed</td>\n",
       "    </tr>\n",
       "    <tr>\n",
       "      <th>4</th>\n",
       "      <td>5</td>\n",
       "      <td>8.3</td>\n",
       "      <td>1</td>\n",
       "      <td>2</td>\n",
       "      <td>2</td>\n",
       "      <td>86</td>\n",
       "      <td>4.5</td>\n",
       "      <td>Yes</td>\n",
       "      <td>Yes</td>\n",
       "      <td>74</td>\n",
       "      <td>88</td>\n",
       "      <td>Placed</td>\n",
       "    </tr>\n",
       "  </tbody>\n",
       "</table>\n",
       "</div>"
      ],
      "text/plain": [
       "   StudentID  CGPA  Internships  Projects  Workshops/Certifications  \\\n",
       "0          1   7.5            1         1                         1   \n",
       "1          2   8.9            0         3                         2   \n",
       "2          3   7.3            1         2                         2   \n",
       "3          4   7.5            1         1                         2   \n",
       "4          5   8.3            1         2                         2   \n",
       "\n",
       "   AptitudeTestScore  SoftSkillsRating ExtracurricularActivities  \\\n",
       "0                 65               4.4                        No   \n",
       "1                 90               4.0                       Yes   \n",
       "2                 82               4.8                       Yes   \n",
       "3                 85               4.4                       Yes   \n",
       "4                 86               4.5                       Yes   \n",
       "\n",
       "  PlacementTraining  SSC_Marks  HSC_Marks PlacementStatus  \n",
       "0                No         61         79       NotPlaced  \n",
       "1               Yes         78         82          Placed  \n",
       "2                No         79         80       NotPlaced  \n",
       "3               Yes         81         80          Placed  \n",
       "4               Yes         74         88          Placed  "
      ]
     },
     "execution_count": 13,
     "metadata": {},
     "output_type": "execute_result"
    }
   ],
   "source": [
    "df.head()"
   ]
  },
  {
   "cell_type": "code",
   "execution_count": 14,
   "id": "22d54541-7ad0-4eab-baa2-7bc363c4a554",
   "metadata": {},
   "outputs": [
    {
     "name": "stdout",
     "output_type": "stream",
     "text": [
      "StudentID                    0\n",
      "CGPA                         0\n",
      "Internships                  0\n",
      "Projects                     0\n",
      "Workshops/Certifications     0\n",
      "AptitudeTestScore            0\n",
      "SoftSkillsRating             0\n",
      "ExtracurricularActivities    0\n",
      "PlacementTraining            0\n",
      "SSC_Marks                    0\n",
      "HSC_Marks                    0\n",
      "PlacementStatus              0\n",
      "dtype: int64\n"
     ]
    }
   ],
   "source": [
    "# Identify missing values\n",
    "missing_values = df.isnull().sum()\n",
    "print(missing_values)"
   ]
  },
  {
   "cell_type": "code",
   "execution_count": 15,
   "id": "12d63cf0-2b8e-4d99-8a6e-905479a93c64",
   "metadata": {},
   "outputs": [
    {
     "name": "stdout",
     "output_type": "stream",
     "text": [
      "   StudentID  CGPA  Internships  Projects  Workshops/Certifications  \\\n",
      "0          1   7.5            1         1                         1   \n",
      "1          2   8.9            0         3                         2   \n",
      "2          3   7.3            1         2                         2   \n",
      "3          4   7.5            1         1                         2   \n",
      "4          5   8.3            1         2                         2   \n",
      "\n",
      "   AptitudeTestScore  SoftSkillsRating ExtracurricularActivities  \\\n",
      "0                 65               4.4                        No   \n",
      "1                 90               4.0                       Yes   \n",
      "2                 82               4.8                       Yes   \n",
      "3                 85               4.4                       Yes   \n",
      "4                 86               4.5                       Yes   \n",
      "\n",
      "  PlacementTraining  SSC_Marks  HSC_Marks PlacementStatus  \n",
      "0                No         61         79       NotPlaced  \n",
      "1               Yes         78         82          Placed  \n",
      "2                No         79         80       NotPlaced  \n",
      "3               Yes         81         80          Placed  \n",
      "4               Yes         74         88          Placed  \n"
     ]
    }
   ],
   "source": [
    "# Get the mean and convert to int\n",
    "a = df['Workshops/Certifications'].mean()\n",
    "a_int = int(a)  # Convert the mean to an integer\n",
    "\n",
    "# Fill missing values in the column with the integer value\n",
    "df['Workshops/Certifications'] = df['Workshops/Certifications'].fillna(a_int)\n",
    "\n",
    "print(df.head())\n",
    "\n"
   ]
  },
  {
   "cell_type": "code",
   "execution_count": 16,
   "id": "f393619c-2c3b-4701-872b-cdf31ae4fc34",
   "metadata": {},
   "outputs": [
    {
     "name": "stdout",
     "output_type": "stream",
     "text": [
      "0       0\n",
      "1       1\n",
      "2       0\n",
      "3       1\n",
      "4       1\n",
      "       ..\n",
      "9995    0\n",
      "9996    0\n",
      "9997    1\n",
      "9998    1\n",
      "9999    0\n",
      "Name: PlacementTraining, Length: 10000, dtype: int32\n",
      "0       0\n",
      "1       1\n",
      "2       1\n",
      "3       1\n",
      "4       1\n",
      "       ..\n",
      "9995    1\n",
      "9996    0\n",
      "9997    1\n",
      "9998    1\n",
      "9999    0\n",
      "Name: ExtracurricularActivities, Length: 10000, dtype: int32\n",
      "0       0\n",
      "1       1\n",
      "2       0\n",
      "3       1\n",
      "4       1\n",
      "       ..\n",
      "9995    0\n",
      "9996    1\n",
      "9997    1\n",
      "9998    1\n",
      "9999    0\n",
      "Name: PlacementStatus, Length: 10000, dtype: int32\n"
     ]
    },
    {
     "data": {
      "text/html": [
       "<div>\n",
       "<style scoped>\n",
       "    .dataframe tbody tr th:only-of-type {\n",
       "        vertical-align: middle;\n",
       "    }\n",
       "\n",
       "    .dataframe tbody tr th {\n",
       "        vertical-align: top;\n",
       "    }\n",
       "\n",
       "    .dataframe thead th {\n",
       "        text-align: right;\n",
       "    }\n",
       "</style>\n",
       "<table border=\"1\" class=\"dataframe\">\n",
       "  <thead>\n",
       "    <tr style=\"text-align: right;\">\n",
       "      <th></th>\n",
       "      <th>StudentID</th>\n",
       "      <th>CGPA</th>\n",
       "      <th>Internships</th>\n",
       "      <th>Projects</th>\n",
       "      <th>Workshops/Certifications</th>\n",
       "      <th>AptitudeTestScore</th>\n",
       "      <th>SoftSkillsRating</th>\n",
       "      <th>ExtracurricularActivities</th>\n",
       "      <th>PlacementTraining</th>\n",
       "      <th>SSC_Marks</th>\n",
       "      <th>HSC_Marks</th>\n",
       "      <th>PlacementStatus</th>\n",
       "    </tr>\n",
       "  </thead>\n",
       "  <tbody>\n",
       "    <tr>\n",
       "      <th>0</th>\n",
       "      <td>1</td>\n",
       "      <td>7.5</td>\n",
       "      <td>1</td>\n",
       "      <td>1</td>\n",
       "      <td>1</td>\n",
       "      <td>65</td>\n",
       "      <td>4.4</td>\n",
       "      <td>0</td>\n",
       "      <td>0</td>\n",
       "      <td>61</td>\n",
       "      <td>79</td>\n",
       "      <td>0</td>\n",
       "    </tr>\n",
       "    <tr>\n",
       "      <th>1</th>\n",
       "      <td>2</td>\n",
       "      <td>8.9</td>\n",
       "      <td>0</td>\n",
       "      <td>3</td>\n",
       "      <td>2</td>\n",
       "      <td>90</td>\n",
       "      <td>4.0</td>\n",
       "      <td>1</td>\n",
       "      <td>1</td>\n",
       "      <td>78</td>\n",
       "      <td>82</td>\n",
       "      <td>1</td>\n",
       "    </tr>\n",
       "    <tr>\n",
       "      <th>2</th>\n",
       "      <td>3</td>\n",
       "      <td>7.3</td>\n",
       "      <td>1</td>\n",
       "      <td>2</td>\n",
       "      <td>2</td>\n",
       "      <td>82</td>\n",
       "      <td>4.8</td>\n",
       "      <td>1</td>\n",
       "      <td>0</td>\n",
       "      <td>79</td>\n",
       "      <td>80</td>\n",
       "      <td>0</td>\n",
       "    </tr>\n",
       "    <tr>\n",
       "      <th>3</th>\n",
       "      <td>4</td>\n",
       "      <td>7.5</td>\n",
       "      <td>1</td>\n",
       "      <td>1</td>\n",
       "      <td>2</td>\n",
       "      <td>85</td>\n",
       "      <td>4.4</td>\n",
       "      <td>1</td>\n",
       "      <td>1</td>\n",
       "      <td>81</td>\n",
       "      <td>80</td>\n",
       "      <td>1</td>\n",
       "    </tr>\n",
       "    <tr>\n",
       "      <th>4</th>\n",
       "      <td>5</td>\n",
       "      <td>8.3</td>\n",
       "      <td>1</td>\n",
       "      <td>2</td>\n",
       "      <td>2</td>\n",
       "      <td>86</td>\n",
       "      <td>4.5</td>\n",
       "      <td>1</td>\n",
       "      <td>1</td>\n",
       "      <td>74</td>\n",
       "      <td>88</td>\n",
       "      <td>1</td>\n",
       "    </tr>\n",
       "  </tbody>\n",
       "</table>\n",
       "</div>"
      ],
      "text/plain": [
       "   StudentID  CGPA  Internships  Projects  Workshops/Certifications  \\\n",
       "0          1   7.5            1         1                         1   \n",
       "1          2   8.9            0         3                         2   \n",
       "2          3   7.3            1         2                         2   \n",
       "3          4   7.5            1         1                         2   \n",
       "4          5   8.3            1         2                         2   \n",
       "\n",
       "   AptitudeTestScore  SoftSkillsRating  ExtracurricularActivities  \\\n",
       "0                 65               4.4                          0   \n",
       "1                 90               4.0                          1   \n",
       "2                 82               4.8                          1   \n",
       "3                 85               4.4                          1   \n",
       "4                 86               4.5                          1   \n",
       "\n",
       "   PlacementTraining  SSC_Marks  HSC_Marks  PlacementStatus  \n",
       "0                  0         61         79                0  \n",
       "1                  1         78         82                1  \n",
       "2                  0         79         80                0  \n",
       "3                  1         81         80                1  \n",
       "4                  1         74         88                1  "
      ]
     },
     "execution_count": 16,
     "metadata": {},
     "output_type": "execute_result"
    }
   ],
   "source": [
    "encoder = LabelEncoder()\n",
    "df['PlacementTraining'] = encoder.fit_transform(df['PlacementTraining'])\n",
    "df['ExtracurricularActivities'] = encoder.fit_transform(df['ExtracurricularActivities'])\n",
    "df['PlacementStatus'] = encoder.fit_transform(df['PlacementStatus'])\n",
    "\n",
    "# print(f\"{df['StudentID']} :- {df['PlacementTraining']} , {df['ExtracurricularActivities']} , {df['PlacementStatus']}\")\n",
    "print(df['PlacementTraining'])\n",
    "print(df['ExtracurricularActivities'])\n",
    "print(df['PlacementStatus'])\n",
    "df.head()"
   ]
  },
  {
   "cell_type": "code",
   "execution_count": 17,
   "id": "15b3c071-e024-450a-b5dc-44413debaaab",
   "metadata": {},
   "outputs": [
    {
     "name": "stdout",
     "output_type": "stream",
     "text": [
      "      CGPA  Internships  Projects  Workshops/Certifications  AptitudeTestScore\n",
      "0      7.5            1         1                         1                 65\n",
      "1      8.9            0         3                         2                 90\n",
      "2      7.3            1         2                         2                 82\n",
      "3      7.5            1         1                         2                 85\n",
      "4      8.3            1         2                         2                 86\n",
      "...    ...          ...       ...                       ...                ...\n",
      "9995   7.5            1         1                         2                 72\n",
      "9996   7.4            0         1                         0                 90\n",
      "9997   8.4            1         3                         0                 70\n",
      "9998   8.9            0         3                         2                 87\n",
      "9999   8.4            0         1                         1                 66\n",
      "\n",
      "[10000 rows x 5 columns]\n"
     ]
    }
   ],
   "source": [
    "# Features\n",
    "X = df[['CGPA', 'Internships', 'Projects', 'Workshops/Certifications', 'AptitudeTestScore']]\n",
    "\n",
    "# Target\n",
    "y = df['PlacementStatus']\n",
    "print(X)"
   ]
  },
  {
   "cell_type": "code",
   "execution_count": 18,
   "id": "b8a9e547-c10f-4f32-adc5-33d00f84a8e9",
   "metadata": {},
   "outputs": [
    {
     "name": "stdout",
     "output_type": "stream",
     "text": [
      "X_train shape: (8000, 5)\n",
      "X_test shape: (2000, 5)\n",
      "y_train shape: (8000,)\n",
      "y_test shape: (2000,)\n"
     ]
    }
   ],
   "source": [
    "# Split the data into training and testing sets\n",
    "X_train, X_test, y_train, y_test = train_test_split(X, y, test_size=0.2, random_state=42)\n",
    "\n",
    "\n",
    "# Scale features\n",
    "scaler = StandardScaler()\n",
    "X_train = scaler.fit_transform(X_train)\n",
    "X_test = scaler.transform(X_test)\n",
    "\n",
    "# Print the shapes of the resulting datasets\n",
    "print(\"X_train shape:\", X_train.shape)\n",
    "print(\"X_test shape:\", X_test.shape)\n",
    "print(\"y_train shape:\", y_train.shape)\n",
    "print(\"y_test shape:\", y_test.shape)"
   ]
  },
  {
   "cell_type": "code",
   "execution_count": 19,
   "id": "a44e01c3-0793-4826-8bbb-610b53677b9d",
   "metadata": {},
   "outputs": [
    {
     "data": {
      "text/plain": [
       "['scaler.pkl']"
      ]
     },
     "execution_count": 19,
     "metadata": {},
     "output_type": "execute_result"
    }
   ],
   "source": [
    "import joblib\n",
    "model = LogisticRegression()\n",
    "model.fit(X_train, y_train)\n",
    "\n",
    "# Save the model and scaler\n",
    "joblib.dump(model,\"placement_model.pkl\")\n",
    "joblib.dump(scaler,\"scaler.pkl\")"
   ]
  },
  {
   "cell_type": "code",
   "execution_count": null,
   "id": "94e94ac9-8eb3-4083-8269-f6aabef863ff",
   "metadata": {},
   "outputs": [
    {
     "name": "stderr",
     "output_type": "stream",
     "text": [
      "D:\\Users\\JIVANI MIRALI\\anaconda3\\Lib\\site-packages\\sklearn\\base.py:493: UserWarning: X does not have valid feature names, but StandardScaler was fitted with feature names\n",
      "  warnings.warn(\n",
      "D:\\Users\\JIVANI MIRALI\\anaconda3\\Lib\\site-packages\\sklearn\\base.py:493: UserWarning: X does not have valid feature names, but StandardScaler was fitted with feature names\n",
      "  warnings.warn(\n",
      "D:\\Users\\JIVANI MIRALI\\anaconda3\\Lib\\site-packages\\sklearn\\base.py:493: UserWarning: X does not have valid feature names, but StandardScaler was fitted with feature names\n",
      "  warnings.warn(\n",
      "D:\\Users\\JIVANI MIRALI\\anaconda3\\Lib\\site-packages\\sklearn\\base.py:493: UserWarning: X does not have valid feature names, but StandardScaler was fitted with feature names\n",
      "  warnings.warn(\n"
     ]
    }
   ],
   "source": [
    "import pandas as pd\n",
    "import numpy as np\n",
    "import joblib\n",
    "import tkinter as tk\n",
    "from tkinter import ttk\n",
    "\n",
    "# Load Model and Scaler\n",
    "model = joblib.load(\"placement_model.pkl\")\n",
    "scaler = joblib.load(\"scaler.pkl\")\n",
    "\n",
    "# Predefined dropdown values\n",
    "dropdown_values = {\n",
    "    \"CGPA\": [5.0, 6.0, 7.0, 8.0, 9.0, 10.0],\n",
    "    \"Projects\": [0, 1, 2, 3, 4, 5],\n",
    "    \"Workshops/Certifications\": [0, 1, 2, 3, 4, 5],\n",
    "    \"Aptitude Test Score\": [10, 20, 30, 40, 50, 60, 70, 80, 90, 100],\n",
    "    \"Internships\": [0, 1, 2, 3, 4]\n",
    "}\n",
    "\n",
    "# Function to Predict Placement\n",
    "def predict_placement():\n",
    "    try:\n",
    "        # Get user input\n",
    "        cgpa = float(entry_cgpa.get())\n",
    "        projects = int(entry_projects.get())\n",
    "        workshops_certifications = int(entry_workshops_certifications.get())\n",
    "        aptitudeTestScore = float(entry_aptitudeTestScore.get())\n",
    "        internships = int(entry_internships.get())\n",
    "\n",
    "        # Prepare input data\n",
    "        input_data = np.array([[cgpa, projects, workshops_certifications, aptitudeTestScore, internships]])\n",
    "        input_data = scaler.transform(input_data)\n",
    "\n",
    "        # Make prediction\n",
    "        prediction = model.predict(input_data)\n",
    "        placed = prediction[0] == 1\n",
    "\n",
    "        # Show styled output box\n",
    "        show_result(placed)\n",
    "\n",
    "    except ValueError:\n",
    "        show_result(None)\n",
    "\n",
    "# Function to Show Custom Result Box\n",
    "def show_result(placed):\n",
    "    result_box = tk.Toplevel(root)\n",
    "    result_box.geometry(\"400x200\")\n",
    "    result_box.resizable(False, False)\n",
    "\n",
    "    if placed is None:\n",
    "        result_box.config(bg=\"#6c757d\")  # Gray for error\n",
    "        title = \"Error\"\n",
    "        message = \"❌ Invalid Input\\nPlease enter valid numeric values.\"\n",
    "        color = \"#ffcc00\"\n",
    "    elif placed:\n",
    "        result_box.config(bg=\"#28a745\")  # Green for Placed\n",
    "        title = \"Congratulations!\"\n",
    "        message = \"✅ Placed\\nYou have a high chance of placement!\"\n",
    "        color = \"white\"\n",
    "    else:\n",
    "        result_box.config(bg=\"#dc3545\")  # Red for Not Placed\n",
    "        title = \"Better Luck Next Time!\"\n",
    "        message = \"❌ Not Placed\\nKeep improving your skills and try again.\"\n",
    "        color = \"white\" \n",
    "\n",
    "    result_box.title(title)\n",
    "    \n",
    "    label = tk.Label(result_box, text=message, fg=color, bg=result_box[\"bg\"], \n",
    "                     font=(\"Arial\", 12), justify=\"center\", padx=10, pady=10)\n",
    "    label.pack(expand=True)\n",
    "\n",
    "    ok_button = tk.Button(result_box, text=\"OK\", command=result_box.destroy, \n",
    "                          font=(\"Arial\", 10), bg=\"white\", padx=10, pady=5)\n",
    "    ok_button.pack(pady=10)\n",
    "   \n",
    "# Function to Exit Application\n",
    "def exit_application():\n",
    "    root.destroy()\n",
    "\n",
    "# Create Main Window\n",
    "root = tk.Tk()\n",
    "root.title(\"Placement Prediction\")\n",
    "root.geometry(\"600x600\")  # Increased size for better spacing\n",
    "root.config(bg=\"#1E1E2E\")  # Dark Background\n",
    "\n",
    "# Styling\n",
    "style = ttk.Style()\n",
    "style.configure(\"TLabel\", font=(\"Arial\", 14), background=\"#1E1E2E\", foreground=\"white\")\n",
    "style.configure(\"TEntry\", font=(\"Arial\", 14), padding=5)\n",
    "style.configure(\"TButton\", font=(\"Arial\", 14, \"bold\"), background=\"#4A90E2\", foreground=\"white\", padding=10)\n",
    "\n",
    "# Big Box Container\n",
    "container = tk.Frame(root, bg=\"#2A2D3E\", bd=5, relief=\"ridge\")\n",
    "container.place(relx=0.5, rely=0.5, anchor=\"center\", width=500, height=450)  # Adjusted size\n",
    "\n",
    "# Title\n",
    "title_label = tk.Label(container, text=\"Placement Prediction\", font=(\"Arial\", 18, \"bold\"), bg=\"#2A2D3E\", fg=\"white\")\n",
    "title_label.pack(pady=15)\n",
    "\n",
    "# Input Frame\n",
    "input_frame = tk.Frame(container, bg=\"#2A2D3E\")\n",
    "input_frame.pack()\n",
    "\n",
    "# Input Fields with Labels\n",
    "entries = {}\n",
    "for i, (label, values) in enumerate(dropdown_values.items()):\n",
    "    ttk.Label(input_frame, text=label).grid(row=i, column=0, pady=8, padx=10, sticky=\"w\")\n",
    "    var = tk.StringVar()\n",
    "    combobox = ttk.Combobox(input_frame, textvariable=var, values=values, width=22, state=\"normal\")\n",
    "    combobox.grid(row=i, column=1, pady=8, padx=10)\n",
    "    combobox.set(values[0])  # Default value\n",
    "    entries[label] = combobox\n",
    "\n",
    "entry_cgpa = entries[\"CGPA\"]\n",
    "entry_projects = entries[\"Projects\"]\n",
    "entry_workshops_certifications = entries[\"Workshops/Certifications\"]\n",
    "entry_aptitudeTestScore = entries[\"Aptitude Test Score\"]\n",
    "entry_internships = entries[\"Internships\"]\n",
    "\n",
    "# Button with hover effect\n",
    "def on_enter(e):\n",
    "    predict_btn.config(bg=\"#316AC5\")\n",
    "\n",
    "def on_leave(e):\n",
    "    predict_btn.config(bg=\"#4A90E2\")\n",
    "\n",
    "predict_btn = tk.Button(container, text=\"Predict Placement\", font=(\"Arial\", 14, \"bold\"), bg=\"#4A90E2\", fg=\"white\",\n",
    "                        activebackground=\"#316AC5\", activeforeground=\"white\", padx=10, pady=5, command=predict_placement)\n",
    "predict_btn.pack(pady=15)\n",
    "\n",
    "predict_btn.bind(\"<Enter>\", on_enter)\n",
    "predict_btn.bind(\"<Leave>\", on_leave)\n",
    "\n",
    "# Exit Button\n",
    "exit_btn = tk.Button(container, text=\"Exit\", font=(\"Arial\", 14, \"bold\"), bg=\"#D9534F\", fg=\"white\",\n",
    "                     activebackground=\"#A94442\", activeforeground=\"white\", padx=10, pady=5, command=exit_application)\n",
    "exit_btn.pack(pady=10)\n",
    "\n",
    "# Run GUI\n",
    "root.mainloop()"
   ]
  },
  {
   "cell_type": "code",
   "execution_count": null,
   "id": "7f97d0f7-6064-4f8e-b4f3-d795b230ec4b",
   "metadata": {},
   "outputs": [],
   "source": []
  }
 ],
 "metadata": {
  "kernelspec": {
   "display_name": "Python 3",
   "language": "python",
   "name": "python3"
  },
  "language_info": {
   "codemirror_mode": {
    "name": "ipython",
    "version": 3
   },
   "file_extension": ".py",
   "mimetype": "text/x-python",
   "name": "python",
   "nbconvert_exporter": "python",
   "pygments_lexer": "ipython3",
   "version": "3.12.0"
  }
 },
 "nbformat": 4,
 "nbformat_minor": 5
}
